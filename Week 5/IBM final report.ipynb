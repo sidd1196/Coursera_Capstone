{
 "cells": [
  {
   "cell_type": "markdown",
   "metadata": {},
   "source": [
    "# A Recommender System for Sports Shop"
   ]
  },
  {
   "cell_type": "code",
   "execution_count": 1,
   "metadata": {},
   "outputs": [
    {
     "data": {
      "text/html": [
       "<img src =\"sports shop.jpg\",height = 200,width=500>\n"
      ],
      "text/plain": [
       "<IPython.core.display.HTML object>"
      ]
     },
     "metadata": {},
     "output_type": "display_data"
    }
   ],
   "source": [
    "%%html\n",
    "<img src =\"sports shop.jpg\",height = 200,width=500>"
   ]
  },
  {
   "cell_type": "markdown",
   "metadata": {},
   "source": [
    "## Part 1: Business Problem and Discussion of Background\n",
    "\n",
    "\n",
    "### There is a sports goods contractor who is looking to open a sports shop in one of the boroughs of Toronto (North York). This contractor provides sports goods to various gyms,stadiums, playing arenas etc.This contractor is looking to open a new store where he would be able to distribute these goods.\n",
    "\n",
    "\n",
    "\n",
    "\n",
    "### So this analysis will help him to give a deeper look into different neighbourhoods in North York and help him decide where to open a new sports shop. Furthermore not only gyms, stadiums but people coming to these places would buy there sports goods from the sports shop. \n",
    "\n",
    "\n"
   ]
  },
  {
   "cell_type": "markdown",
   "metadata": {},
   "source": [
    "## Part 2: Data \n",
    "\n",
    "\n",
    "### We will be getting data as per:\n",
    "\n",
    "####  1. Web scraping data from wikipedia of neighbourhoods in Toronto.\n",
    "####  2. Using Geocoder package to get the latitudes and longitudes.\n",
    "####  3. Using FourSquare location to fetch the details of venues nearby.\n",
    "\n",
    "\n",
    "### Using data to solve the problem :\n",
    "\n",
    "#### We will need geo-locational information about that specific borough and the neighborhoods in that borough. We specifically and technically mean the latitude and longitude numbers of that borough.\n",
    "#### We assume that it is \"North York\" in Toronto. This is easily provided for us by the contractor, because the contractor has already made up his mind about the borough.\n",
    "\n",
    "#### The analysis of data will help the contractor to decide where to open the sports shop."
   ]
  },
  {
   "cell_type": "markdown",
   "metadata": {},
   "source": [
    "# Main Article\n",
    "\n",
    "\n",
    "\n",
    "## Part 1: Identifying Neighborhoods inside \"North York\"\n",
    "\n",
    "### We will use Postal Codes of different regions inside North York to find the list of neighborhoods. We will essentially obtain our information from https://en.wikipedia.org/wiki/List_of_postal_codes_of_Canada:_M and then process the table inside this site. Images from dataframes and also from maps will be provided in the presentation. Here we only present our strategy and how we got the mission accomplished\n",
    "\n",
    "\n",
    "## Part 2: Connecting to Foursquare and Retrieving Locational Data for Each Venue in Every Neighborhood\n",
    "\n",
    "\n",
    "### After finding the list of neighborhoods, we then connect to the Foursquare API to gather information about venues inside each and every neighborhood. For each neighborhood, we have chosen the radius to be 1000 meter. It means that we have asked Foursquare to find venues that are at most 1000 meter far from the center of the neighborhood.\n",
    "\n",
    "\n",
    "## Part 3: Processing the Retrieved Data and Creating a DataFrome for All the Venues inside the North York\n",
    "\n",
    "### When the data is completely gathered, we will perform processing on that raw data to find our desirable features for each venue. Our main feature is the category of that venue. After this stage, the column \"Venue's Category\" will be One-hot encoded and different venues will have different feature-columns.\n",
    "\n",
    "### Now, the dataset is fully ready to be used for machine learning (and statistical analysis) purposes.\n",
    "\n",
    "## Part 4: Applying one of Machine Learning Techniques (K-Means Clustering)\n",
    "\n",
    "### Here we cluster neighborhoods via K-means clustering method. We think that 5 clusters is enough and can cover the complexity of our problem. After clustering we will update our dataset and create a column representing the group for each neighborhood.\n",
    "\n",
    "\n",
    "\n",
    "# Decision Making and Reporting Results\n",
    "\n",
    "### Now, we focus on the centers of clusters. The group which its center has the highest \"Total Sum\" will be our best recommendation to the contractor. This algorithm although is pretty straightforward yet is strongly powerful.\n",
    "\n",
    "\n",
    "## Results\n",
    "\n",
    "### Based on this analysis, the best recommended neighborhood will be:\n",
    "### {'Postal Code': 'M3C',\n",
    "### 'Neighborhood': 'Flemingdon Park,Don Mills South',\n",
    "### 'Neighborhood Latitude': 43.72589970000001,\n",
    "### 'Neighborhood Longitude': -79.340923}\n",
    "\n",
    "\n",
    "\n",
    "### Thank You\n",
    "### Siddharth Pathania - siddp11@gmail.com"
   ]
  },
  {
   "cell_type": "code",
   "execution_count": null,
   "metadata": {},
   "outputs": [],
   "source": []
  },
  {
   "cell_type": "code",
   "execution_count": null,
   "metadata": {},
   "outputs": [],
   "source": []
  },
  {
   "cell_type": "code",
   "execution_count": null,
   "metadata": {},
   "outputs": [],
   "source": []
  },
  {
   "cell_type": "code",
   "execution_count": null,
   "metadata": {},
   "outputs": [],
   "source": []
  }
 ],
 "metadata": {
  "kernelspec": {
   "display_name": "Python 3",
   "language": "python",
   "name": "python3"
  },
  "language_info": {
   "codemirror_mode": {
    "name": "ipython",
    "version": 3
   },
   "file_extension": ".py",
   "mimetype": "text/x-python",
   "name": "python",
   "nbconvert_exporter": "python",
   "pygments_lexer": "ipython3",
   "version": "3.6.8"
  }
 },
 "nbformat": 4,
 "nbformat_minor": 2
}
