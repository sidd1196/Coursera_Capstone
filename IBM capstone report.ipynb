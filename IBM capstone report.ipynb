{
 "cells": [
  {
   "cell_type": "markdown",
   "metadata": {},
   "source": [
    "# A Recommender System for Sports Shop"
   ]
  },
  {
   "cell_type": "code",
   "execution_count": 3,
   "metadata": {},
   "outputs": [
    {
     "data": {
      "text/html": [
       "<img src =\"sports shop.jpg\",height = 200,width=500>\n"
      ],
      "text/plain": [
       "<IPython.core.display.HTML object>"
      ]
     },
     "metadata": {},
     "output_type": "display_data"
    }
   ],
   "source": [
    "%%html\n",
    "<img src =\"sports shop.jpg\",height = 200,width=500>"
   ]
  },
  {
   "cell_type": "markdown",
   "metadata": {},
   "source": [
    "## Part 1: Business Problem and Discussion of Background\n",
    "\n",
    "\n",
    "### There is a sports goods contractor who is looking to open a sports shop in one of the boroughs of Toronto (North York). This contractor provides sports goods to various gyms,stadiums, playing arenas etc.This contractor is looking to open a new store where he would be able to distribute these goods.\n",
    "\n",
    "\n",
    "\n",
    "\n",
    "### So this analysis will help him to give a deeper look into different neighbourhoods in North York and help him decide where to open a new sports shop. Furthermore not only gyms, stadiums but people coming to these places would buy there sports goods from the sports shop. \n",
    "\n",
    "\n",
    "\n"
   ]
  },
  {
   "cell_type": "markdown",
   "metadata": {},
   "source": [
    "## Part 2: Data \n",
    "\n",
    "\n",
    "### We will be getting data as per:\n",
    "\n",
    "####  1. Web scraping data from wikipedia of neighbourhoods in Toronto.\n",
    "####  2. Using Geocoder package to get the latitudes and longitudes.\n",
    "####  3. Using FourSquare location to fetch the details of venues nearby.\n",
    "\n",
    "\n",
    "### Using data to solve the problem :\n",
    "\n",
    "#### We will need geo-locational information about that specific borough and the neighborhoods in that borough. We specifically and technically mean the latitude and longitude numbers of that borough.\n",
    "#### We assume that it is \"North York\" in Toronto. This is easily provided for us by the contractor, because the contractor has already made up his mind about the borough.\n",
    "\n",
    "#### The analysis of data will help the contractor to decide where to open the sports shop.\n"
   ]
  },
  {
   "cell_type": "markdown",
   "metadata": {},
   "source": [
    "### 2.1 Data Collection"
   ]
  },
  {
   "cell_type": "code",
   "execution_count": null,
   "metadata": {},
   "outputs": [],
   "source": []
  },
  {
   "cell_type": "code",
   "execution_count": 4,
   "metadata": {},
   "outputs": [
    {
     "name": "stdout",
     "output_type": "stream",
     "text": [
      "Hello Capstone Project Course!\n"
     ]
    }
   ],
   "source": [
    "# Importing all my modules\n",
    "import pandas as pd\n",
    "import numpy as np\n",
    "import folium\n",
    "import json\n",
    "from pandas.io.json import json_normalize \n",
    "from sklearn.cluster import KMeans\n",
    "import matplotlib.cm as cm\n",
    "import matplotlib.colors as colors\n"
   ]
  },
  {
   "cell_type": "code",
   "execution_count": 5,
   "metadata": {},
   "outputs": [
    {
     "name": "stdout",
     "output_type": "stream",
     "text": [
      "Extracted 1 wikitables\n",
      "  Postcode           Borough     Neighbourhood\n",
      "0      M1A      Not assigned      Not assigned\n",
      "1      M2A      Not assigned      Not assigned\n",
      "2      M3A        North York         Parkwoods\n",
      "3      M4A        North York  Victoria Village\n",
      "4      M5A  Downtown Toronto      Harbourfront\n"
     ]
    }
   ],
   "source": [
    "# scraping the wikipedia page\n",
    "from pandas.io.html import read_html\n",
    "page = 'https://en.wikipedia.org/wiki/List_of_postal_codes_of_Canada:_M'\n",
    "\n",
    "wikitables = read_html(page,  attrs={\"class\":\"wikitable sortable\"})\n",
    "\n",
    "print (\"Extracted {num} wikitables\".format(num=len(wikitables)))\n",
    "\n",
    "df = wikitables[0]\n",
    "print(df.head())\n"
   ]
  },
  {
   "cell_type": "code",
   "execution_count": 6,
   "metadata": {},
   "outputs": [
    {
     "name": "stdout",
     "output_type": "stream",
     "text": [
      "  Postcode      Borough                                  Neighbourhood\n",
      "0      M1B  Scarborough                                  Rouge,Malvern\n",
      "1      M1C  Scarborough           Highland Creek,Rouge Hill,Port Union\n",
      "2      M1E  Scarborough                Guildwood,Morningside,West Hill\n",
      "3      M1G  Scarborough                                         Woburn\n",
      "4      M1H  Scarborough                                      Cedarbrae\n",
      "5      M1J  Scarborough                            Scarborough Village\n",
      "6      M1K  Scarborough      East Birchmount Park,Ionview,Kennedy Park\n",
      "7      M1L  Scarborough                  Clairlea,Golden Mile,Oakridge\n",
      "8      M1M  Scarborough  Cliffcrest,Cliffside,Scarborough Village West\n",
      "9      M1N  Scarborough                     Birch Cliff,Cliffside West\n",
      "Index(['Postcode', 'Borough', 'Neighbourhood'], dtype='object')\n"
     ]
    }
   ],
   "source": [
    "# Creating the required DataFrame\n",
    "df = df.loc[(df.Borough != 'Not assigned')] # Removing the not assigned values in Borough\n",
    "\n",
    "df = df.groupby(['Postcode','Borough'])['Neighbourhood'].apply(\",\".join).reset_index() # Grouping the Neighbourhood with same Postcode\n",
    "\n",
    "df.Neighbourhood[df.Neighbourhood == 'Not assigned'] = df.Borough # Replacing the Not Assigned Neighbourhood with Borough name\n",
    "\n",
    "df = pd.DataFrame(df)\n",
    "print(df.head(10))\n",
    "\n",
    "print(df.columns)"
   ]
  },
  {
   "cell_type": "code",
   "execution_count": 7,
   "metadata": {},
   "outputs": [
    {
     "name": "stdout",
     "output_type": "stream",
     "text": [
      "  Postcode      Borough                         Neighbourhood   Latitude  \\\n",
      "0      M1B  Scarborough                         Rouge,Malvern  43.806686   \n",
      "1      M1C  Scarborough  Highland Creek,Rouge Hill,Port Union  43.784535   \n",
      "2      M1E  Scarborough       Guildwood,Morningside,West Hill  43.763573   \n",
      "3      M1G  Scarborough                                Woburn  43.770992   \n",
      "4      M1H  Scarborough                             Cedarbrae  43.773136   \n",
      "\n",
      "   Longitude  \n",
      "0 -79.194353  \n",
      "1 -79.160497  \n",
      "2 -79.188711  \n",
      "3 -79.216917  \n",
      "4 -79.239476  \n"
     ]
    }
   ],
   "source": [
    "df_2 = pd.read_csv('Geospatial_Coordinates.csv')\n",
    "df_2 = df_2.rename(columns={'Postal Code': 'Postcode'})\n",
    "\n",
    "#print(df_2.head())\n",
    "df_3 =  pd.merge(df, df_2, on='Postcode')\n",
    "#print(df_3)\n",
    "\n",
    "neighborhoods = df_3\n",
    "print(neighborhoods.head())"
   ]
  },
  {
   "cell_type": "code",
   "execution_count": 9,
   "metadata": {},
   "outputs": [
    {
     "name": "stdout",
     "output_type": "stream",
     "text": [
      "The geograpical coordinate of Toronto are 43.653963, -79.387207.\n"
     ]
    }
   ],
   "source": [
    "from  geopy.geocoders import Nominatim\n",
    "geolocator = Nominatim()\n",
    "address = 'Toronto, Ontario'\n",
    "\n",
    "geolocator = Nominatim(user_agent=\"tronto_explorer\")\n",
    "location = geolocator.geocode(address)\n",
    "latitude = location.latitude\n",
    "longitude = location.longitude\n",
    "print('The geograpical coordinate of Toronto are {}, {}.'.format(latitude, longitude))"
   ]
  },
  {
   "cell_type": "code",
   "execution_count": 12,
   "metadata": {},
   "outputs": [
    {
     "name": "stdout",
     "output_type": "stream",
     "text": [
      "Your credentails:\n",
      "CLIENT_ID: CE4EKZPXO1IGFXYKXIDIJ2CSCWCS4QPXU5LWYHOQHWFB442H\n",
      "CLIENT_SECRET:Z0C2JTUONSR2YBBBHSITBBM2GB1VJKUPPVUH3TNO4OD04JTI\n"
     ]
    }
   ],
   "source": [
    "#Define Foursquare Credentials and Version\n",
    "\n",
    "CLIENT_ID = 'CE4EKZPXO1IGFXYKXIDIJ2CSCWCS4QPXU5LWYHOQHWFB442H'\n",
    "CLIENT_SECRET = 'Z0C2JTUONSR2YBBBHSITBBM2GB1VJKUPPVUH3TNO4OD04JTI' # your Foursquare Secret\n",
    "VERSION = '20180605' # Foursquare API version\n",
    "\n",
    "print('Your credentails:')\n",
    "print('CLIENT_ID: ' + CLIENT_ID)\n",
    "print('CLIENT_SECRET:' + CLIENT_SECRET)"
   ]
  },
  {
   "cell_type": "markdown",
   "metadata": {},
   "source": [
    "#### Full analysis is done in next week's jupyter notebook."
   ]
  },
  {
   "cell_type": "code",
   "execution_count": null,
   "metadata": {},
   "outputs": [],
   "source": []
  },
  {
   "cell_type": "code",
   "execution_count": null,
   "metadata": {},
   "outputs": [],
   "source": []
  }
 ],
 "metadata": {
  "kernelspec": {
   "display_name": "Python 3",
   "language": "python",
   "name": "python3"
  },
  "language_info": {
   "codemirror_mode": {
    "name": "ipython",
    "version": 3
   },
   "file_extension": ".py",
   "mimetype": "text/x-python",
   "name": "python",
   "nbconvert_exporter": "python",
   "pygments_lexer": "ipython3",
   "version": "3.6.8"
  }
 },
 "nbformat": 4,
 "nbformat_minor": 2
}
