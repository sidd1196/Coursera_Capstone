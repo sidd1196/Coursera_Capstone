{
 "cells": [
  {
   "cell_type": "markdown",
   "metadata": {},
   "source": [
    "# Capstone project notebook"
   ]
  },
  {
   "cell_type": "code",
   "execution_count": 1,
   "metadata": {},
   "outputs": [
    {
     "name": "stdout",
     "output_type": "stream",
     "text": [
      "Hello Capstone Project Course!\n"
     ]
    }
   ],
   "source": [
    "# Importing all my modules\n",
    "import pandas as pd\n",
    "import numpy as np\n",
    "print('Hello Capstone Project Course!')"
   ]
  },
  {
   "cell_type": "markdown",
   "metadata": {},
   "source": [
    "## Scraping the wikipedia page"
   ]
  },
  {
   "cell_type": "code",
   "execution_count": 2,
   "metadata": {},
   "outputs": [
    {
     "name": "stdout",
     "output_type": "stream",
     "text": [
      "Extracted 1 wikitables\n",
      "  Postcode           Borough     Neighbourhood\n",
      "0      M1A      Not assigned      Not assigned\n",
      "1      M2A      Not assigned      Not assigned\n",
      "2      M3A        North York         Parkwoods\n",
      "3      M4A        North York  Victoria Village\n",
      "4      M5A  Downtown Toronto      Harbourfront\n"
     ]
    }
   ],
   "source": [
    "# scraping the wikipedia page\n",
    "from pandas.io.html import read_html\n",
    "page = 'https://en.wikipedia.org/wiki/List_of_postal_codes_of_Canada:_M'\n",
    "\n",
    "wikitables = read_html(page,  attrs={\"class\":\"wikitable sortable\"})\n",
    "\n",
    "print (\"Extracted {num} wikitables\".format(num=len(wikitables)))\n",
    "\n",
    "df = wikitables[0]\n",
    "print(df.head())\n"
   ]
  },
  {
   "cell_type": "markdown",
   "metadata": {},
   "source": [
    "## Creating the required DataFrame"
   ]
  },
  {
   "cell_type": "code",
   "execution_count": 3,
   "metadata": {},
   "outputs": [
    {
     "name": "stdout",
     "output_type": "stream",
     "text": [
      "  Postcode      Borough                                  Neighbourhood\n",
      "0      M1B  Scarborough                                  Rouge,Malvern\n",
      "1      M1C  Scarborough           Highland Creek,Rouge Hill,Port Union\n",
      "2      M1E  Scarborough                Guildwood,Morningside,West Hill\n",
      "3      M1G  Scarborough                                         Woburn\n",
      "4      M1H  Scarborough                                      Cedarbrae\n",
      "5      M1J  Scarborough                            Scarborough Village\n",
      "6      M1K  Scarborough      East Birchmount Park,Ionview,Kennedy Park\n",
      "7      M1L  Scarborough                  Clairlea,Golden Mile,Oakridge\n",
      "8      M1M  Scarborough  Cliffcrest,Cliffside,Scarborough Village West\n",
      "9      M1N  Scarborough                     Birch Cliff,Cliffside West\n",
      "Index(['Postcode', 'Borough', 'Neighbourhood'], dtype='object')\n"
     ]
    }
   ],
   "source": [
    "df = df.loc[(df.Borough != 'Not assigned')] # Removing the not assigned values in Borough\n",
    "\n",
    "df = df.groupby(['Postcode','Borough'])['Neighbourhood'].apply(\",\".join).reset_index() # Grouping the Neighbourhood with same Postcode\n",
    "\n",
    "df.Neighbourhood[df.Neighbourhood == 'Not assigned'] = df.Borough # Replacing the Not Assigned Neighbourhood with Borough name\n",
    "\n",
    "df = pd.DataFrame(df)\n",
    "print(df.head(10))\n",
    "\n",
    "print(df.columns)"
   ]
  },
  {
   "cell_type": "code",
   "execution_count": 4,
   "metadata": {},
   "outputs": [
    {
     "name": "stdout",
     "output_type": "stream",
     "text": [
      "(103, 3)\n"
     ]
    }
   ],
   "source": [
    "# Number of rows and columns in dataframe\n",
    "print(df.shape)"
   ]
  },
  {
   "cell_type": "code",
   "execution_count": null,
   "metadata": {},
   "outputs": [],
   "source": []
  }
 ],
 "metadata": {
  "kernelspec": {
   "display_name": "Python 3",
   "language": "python",
   "name": "python3"
  },
  "language_info": {
   "codemirror_mode": {
    "name": "ipython",
    "version": 3
   },
   "file_extension": ".py",
   "mimetype": "text/x-python",
   "name": "python",
   "nbconvert_exporter": "python",
   "pygments_lexer": "ipython3",
   "version": "3.6.8"
  }
 },
 "nbformat": 4,
 "nbformat_minor": 2
}
